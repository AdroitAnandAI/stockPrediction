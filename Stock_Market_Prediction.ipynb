{
 "cells": [
  {
   "cell_type": "markdown",
   "metadata": {},
   "source": [
    "# Predicting the Stock Market Prices"
   ]
  },
  {
   "cell_type": "markdown",
   "metadata": {},
   "source": [
    "### **Data Description:** \n",
    "\n",
    "In this mission, we'll be working with a csv file containing index prices. Each row in the file contains a **daily record of the price of the S&P500 Index from 1950 to 2015**. The dataset is stored in sphist.csv.\n",
    "\n",
    "The columns of the dataset are:\n",
    "\n",
    "    Date -- The date of the record.\n",
    "    Open -- The opening price of the day (when trading starts).\n",
    "    High -- The highest trade price during the day.\n",
    "    Low -- The lowest trade price during the day.\n",
    "    Close -- The closing price for the day (when trading is finished).\n",
    "    Volume -- The number of shares traded.\n",
    "    Adj Close -- The daily closing price, adjusted for corporate actions.\n",
    "\n",
    "**We'll be using this dataset to develop a predictive model. We'll train the model with data from 1950-2012, and try to make predictions from 2013-2015.**"
   ]
  },
  {
   "cell_type": "code",
   "execution_count": 69,
   "metadata": {},
   "outputs": [
    {
     "name": "stdout",
     "output_type": "stream",
     "text": [
      "\n",
      "\n",
      "*** Dataset After Augmented Values ***\n",
      "            Date       Open       High        Low      Close     Volume  \\\n",
      "16224 1951-06-19  22.020000  22.020000  22.020000  22.020000  1100000.0   \n",
      "16223 1951-06-20  21.910000  21.910000  21.910000  21.910000  1120000.0   \n",
      "16222 1951-06-21  21.780001  21.780001  21.780001  21.780001  1100000.0   \n",
      "16221 1951-06-22  21.549999  21.549999  21.549999  21.549999  1340000.0   \n",
      "16220 1951-06-25  21.290001  21.290001  21.290001  21.290001  2440000.0   \n",
      "\n",
      "       Adj Close   mean_365   std_365  mean_5by365  \n",
      "16224  22.020000  19.447726  1.790253     1.120954  \n",
      "16223  21.910000  19.462411  1.789307     1.125246  \n",
      "16222  21.780001  19.476274  1.788613     1.128142  \n",
      "16221  21.549999  19.489562  1.787659     1.126757  \n",
      "16220  21.290001  19.502082  1.786038     1.121008  \n",
      "\n",
      "\n",
      "*** Train Dataset Outcome Variables ***\n",
      "16224    22.020000\n",
      "16223    21.910000\n",
      "16222    21.780001\n",
      "16221    21.549999\n",
      "16220    21.290001\n",
      "16219    21.299999\n",
      "16218    21.370001\n",
      "16217    21.100000\n",
      "16216    20.959999\n",
      "16215    21.100000\n",
      "Name: Close, dtype: float64\n",
      "\n",
      "\n",
      "*** Train Dataset Input Variables ***\n",
      "        mean_365   std_365  mean_5by365\n",
      "16224  19.447726  1.790253     1.120954\n",
      "16223  19.462411  1.789307     1.125246\n",
      "16222  19.476274  1.788613     1.128142\n",
      "16221  19.489562  1.787659     1.126757\n",
      "16220  19.502082  1.786038     1.121008\n",
      "16219  19.513617  1.783946     1.112556\n",
      "16218  19.525315  1.781613     1.104515\n",
      "16217  19.537041  1.779624     1.098324\n",
      "16216  19.548932  1.775513     1.090699\n",
      "16215  19.560685  1.770595     1.084011\n"
     ]
    }
   ],
   "source": [
    "import pandas as pd\n",
    "from datetime import datetime\n",
    "\n",
    "# Read the s&p 500 input data set and sorting based on date.\n",
    "sp500 = pd.read_csv(\"sphist.csv\", index_col=False)\n",
    "sp500[\"Date\"] = pd.to_datetime(sp500[\"Date\"])\n",
    "sp_sorted = sp500.sort_values(\"Date\")\n",
    "\n",
    "# To do feature engineering - take mean of previous 5\n",
    "temps = pd.DataFrame(sp_sorted.Close)\n",
    "\n",
    "# need to shift by 1 coz otherwise it will add up present value also\n",
    "# Adding present value to the mean is same as giving the \n",
    "# predicted value (outcome)along with the training data.\n",
    "# This will hurt prediction model\n",
    "shifted = temps.shift(1)\n",
    "\n",
    "# The average price for the past 365 days.\n",
    "# The standard deviation of the price over the past 365 days\n",
    "window = shifted.rolling(window=365)\n",
    "means_365 = window.mean()\n",
    "std_365 = window.std()\n",
    "sp_sorted['mean_365'] = means_365\n",
    "sp_sorted['std_365'] = std_365\n",
    "\n",
    "# The ratio between the average price \n",
    "# for the past 5 days, and the average \n",
    "# price for the past 365 days.\n",
    "window = shifted.rolling(window=5)\n",
    "means_5 = window.mean()\n",
    "sp_sorted['mean_5by365'] = means_5/ means_365\n",
    "\n",
    "# Some of the indicators use 365 days of historical data, and the dataset starts \n",
    "# on 1950-01-03. Thus, any rows that fall before 1951-01-03 don't have enough \n",
    "# historical data to compute all the indicators. \n",
    "sp_augmented = sp_sorted[sp_sorted[\"Date\"] > datetime(year=1951, month=1, day=2)]\n",
    "\n",
    "# Use the dropna method to remove any rows with NaN values. \n",
    "# Pass in the axis=0 argument to drop rows.\n",
    "sp_augmented = sp_augmented.dropna(axis = 0)\n",
    "\n",
    "print(\"\\n\\n*** Dataset After Augmented Values ***\")\n",
    "print(sp_augmented.head(5))\n",
    "\n",
    "# Train dataset would contain rows with a date less than 2013-01-01\n",
    "train = sp_augmented[sp_augmented[\"Date\"] < datetime(year=2013, month=1, day=1)]\n",
    "test = sp_augmented[sp_augmented[\"Date\"] >= datetime(year=2013, month=1, day=1)]\n",
    "\n",
    "# Separate Train dataset \n",
    "y_train = train['Close']\n",
    "x_train = train.drop(\n",
    "    ['Close', 'High', 'Low', 'Open', 'Volume', 'Adj Close', 'Date'], axis=1)\n",
    "\n",
    "# Separate Test dataset \n",
    "y_test = test['Close']\n",
    "x_test = test.drop(\n",
    "    ['Close', 'High', 'Low', 'Open', 'Volume', 'Adj Close', 'Date'], axis=1)\n",
    "\n",
    "\n",
    "print(\"\\n\\n*** Train Dataset Outcome Variables ***\")\n",
    "print(y_train.head(10))\n",
    "print(\"\\n\\n*** Train Dataset Input Variables ***\")\n",
    "print(x_train.head(10))\n"
   ]
  },
  {
   "cell_type": "code",
   "execution_count": 70,
   "metadata": {},
   "outputs": [
    {
     "data": {
      "image/png": "[encoded data removed]",
      "text/plain": [
       "<matplotlib.figure.Figure at 0x11cf4128>"
      ]
     },
     "metadata": {},
     "output_type": "display_data"
    },
    {
     "name": "stdout",
     "output_type": "stream",
     "text": [
      "Mean Absolute Error (MAE) = 98.94921147104225\n"
     ]
    }
   ],
   "source": [
    "from sklearn.linear_model import LinearRegression\n",
    "import matplotlib.pyplot as plt\n",
    "import math \n",
    "# Importing the statistics module\n",
    "from statistics import mean\n",
    "\n",
    "lm = LinearRegression()\n",
    "lm.fit(x_train, y_train)\n",
    "\n",
    "y_pred = lm.predict(x_test)\n",
    "\n",
    "plt.scatter(y_test, y_pred)\n",
    "plt.xlabel(\"Actual Prices: $Y_i$\")\n",
    "plt.ylabel(\"Predicted Prices: $\\hat{Y}_i$\")\n",
    "plt.title(\"Actual Prices vs Predicted prices: $Y_i$ vs $\\hat{Y}_i$\")\n",
    "plt.show()\n",
    "\n",
    "# Calculating the error\n",
    "delta_y = y_test - y_pred;\n",
    "print(\"Mean Absolute Error (MAE) = \" + str(mean(abs(delta_y))))"
   ]
  },
  {
   "cell_type": "markdown",
   "metadata": {},
   "source": [
    "# Conclusion\n",
    "\n",
    "**The Actual and Predicted prices are almost linear. Hence the predictin model is working**, though the error can be further reduced with a better model such as randomforest or using feature engineering techniques to include volume of transaction."
   ]
  },
  {
   "cell_type": "code",
   "execution_count": null,
   "metadata": {},
   "outputs": [],
   "source": []
  }
 ],
 "metadata": {
  "kernelspec": {
   "display_name": "Python 3",
   "language": "python",
   "name": "python3"
  },
  "language_info": {
   "codemirror_mode": {
    "name": "ipython",
    "version": 3
   },
   "file_extension": ".py",
   "mimetype": "text/x-python",
   "name": "python",
   "nbconvert_exporter": "python",
   "pygments_lexer": "ipython3",
   "version": "3.6.4"
  }
 },
 "nbformat": 4,
 "nbformat_minor": 2
}
